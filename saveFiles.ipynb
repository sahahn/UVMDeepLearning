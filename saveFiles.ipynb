{
 "cells": [
  {
   "cell_type": "code",
   "execution_count": 2,
   "metadata": {
    "collapsed": true
   },
   "outputs": [],
   "source": [
    "import nibabel as nib\n",
    "import numpy as np\n",
    "import os, random\n",
    "import matplotlib.pyplot as plt\n",
    "import scipy.ndimage\n",
    "from skimage import morphology\n",
    "from skimage import measure\n",
    "from skimage.transform import resize\n",
    "from scipy.ndimage.interpolation import rotate\n",
    "import numpy as np\n",
    "import matplotlib.pyplot as plt\n",
    "from scipy import ndimage as ndi\n",
    "from skimage import feature"
   ]
  },
  {
   "cell_type": "code",
   "execution_count": 3,
   "metadata": {
    "collapsed": true
   },
   "outputs": [],
   "source": [
    "def resample(image, spacing, new_spacing):\n",
    "\n",
    "    resize_factor = spacing / new_spacing\n",
    "    new_real_shape = image.shape * resize_factor\n",
    "    \n",
    "    new_shape = np.round(new_real_shape)\n",
    "    real_resize_factor = new_shape / image.shape\n",
    "    \n",
    "    new_spacing = spacing / real_resize_factor\n",
    "    \n",
    "    image = scipy.ndimage.interpolation.zoom(image, real_resize_factor)\n",
    "    \n",
    "    return image\n",
    "\n",
    "def normalize_data(scan):\n",
    "\n",
    "    scan = scan.astype('float32')\n",
    "    scan -= np.mean(scan)\n",
    "    scan /= np.max(scan)\n",
    "\n",
    "    imax = np.max(scan)\n",
    "    imin = np.min(scan)\n",
    "\n",
    "    scan -= imin\n",
    "    scan /= (imax-imin)\n",
    "    \n",
    "    return scan\n",
    "\n",
    "def save(scan, output_path):\n",
    "    np.save(output_path, scan)\n",
    "    \n",
    "    \n",
    "def read_and_save(input_path):\n",
    "    \n",
    "    path = input_path.split('/')\n",
    "    name = path[-1].split('.')[0]\n",
    "    output_path = 'data/' + name\n",
    "    \n",
    "    scan = nib.load(input_path)\n",
    "    \n",
    "    scan_img = scan.get_data()\n",
    "    header = scan.header\n",
    "    \n",
    "    slice_thickness = header.get_zooms()[2]\n",
    "    pixel_dims = header.get_zooms()[0:2]\n",
    "    \n",
    "    spacing = np.array([slice_thickness, pixel_dims[0], pixel_dims[1]])\n",
    "    scan = scan_img.transpose(2,0,1)\n",
    "    \n",
    "    scan = normalize_data(scan)\n",
    "    scan = resample(scan, spacing, [1,1,1])\n",
    "    \n",
    "    save(scan, output_path)"
   ]
  },
  {
   "cell_type": "code",
   "execution_count": 7,
   "metadata": {
    "collapsed": true
   },
   "outputs": [],
   "source": [
    "files = os.listdir('../Nov_Normals_nii/')\n",
    "files = [file for file in files if '.nii' in file]"
   ]
  },
  {
   "cell_type": "code",
   "execution_count": null,
   "metadata": {
    "collapsed": true
   },
   "outputs": [],
   "source": [
    "f"
   ]
  },
  {
   "cell_type": "code",
   "execution_count": null,
   "metadata": {
    "collapsed": true
   },
   "outputs": [],
   "source": []
  }
 ],
 "metadata": {
  "kernelspec": {
   "display_name": "Python 3",
   "language": "python",
   "name": "python3"
  },
  "language_info": {
   "codemirror_mode": {
    "name": "ipython",
    "version": 3
   },
   "file_extension": ".py",
   "mimetype": "text/x-python",
   "name": "python",
   "nbconvert_exporter": "python",
   "pygments_lexer": "ipython3",
   "version": "3.6.3"
  }
 },
 "nbformat": 4,
 "nbformat_minor": 2
}
